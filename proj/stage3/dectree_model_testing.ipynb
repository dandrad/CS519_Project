{
 "cells": [
  {
   "cell_type": "code",
   "execution_count": 1,
   "metadata": {},
   "outputs": [
    {
     "data": {
      "text/html": [
       "<div>\n",
       "<style scoped>\n",
       "    .dataframe tbody tr th:only-of-type {\n",
       "        vertical-align: middle;\n",
       "    }\n",
       "\n",
       "    .dataframe tbody tr th {\n",
       "        vertical-align: top;\n",
       "    }\n",
       "\n",
       "    .dataframe thead th {\n",
       "        text-align: right;\n",
       "    }\n",
       "</style>\n",
       "<table border=\"1\" class=\"dataframe\">\n",
       "  <thead>\n",
       "    <tr style=\"text-align: right;\">\n",
       "      <th></th>\n",
       "      <th>Intake Type</th>\n",
       "      <th>Intake Condition</th>\n",
       "      <th>Animal Type</th>\n",
       "      <th>Sex upon Intake</th>\n",
       "      <th>Breed</th>\n",
       "      <th>Color</th>\n",
       "      <th>Outcome Type</th>\n",
       "      <th>Sex upon Outcome</th>\n",
       "      <th>Age (Days)</th>\n",
       "    </tr>\n",
       "  </thead>\n",
       "  <tbody>\n",
       "    <tr>\n",
       "      <th>1</th>\n",
       "      <td>4</td>\n",
       "      <td>5</td>\n",
       "      <td>0</td>\n",
       "      <td>4</td>\n",
       "      <td>1103</td>\n",
       "      <td>357</td>\n",
       "      <td>8</td>\n",
       "      <td>4</td>\n",
       "      <td>-0.702351</td>\n",
       "    </tr>\n",
       "    <tr>\n",
       "      <th>2</th>\n",
       "      <td>4</td>\n",
       "      <td>5</td>\n",
       "      <td>0</td>\n",
       "      <td>4</td>\n",
       "      <td>1103</td>\n",
       "      <td>357</td>\n",
       "      <td>8</td>\n",
       "      <td>4</td>\n",
       "      <td>-0.702351</td>\n",
       "    </tr>\n",
       "    <tr>\n",
       "      <th>3</th>\n",
       "      <td>4</td>\n",
       "      <td>5</td>\n",
       "      <td>0</td>\n",
       "      <td>4</td>\n",
       "      <td>1103</td>\n",
       "      <td>357</td>\n",
       "      <td>8</td>\n",
       "      <td>4</td>\n",
       "      <td>-0.702351</td>\n",
       "    </tr>\n",
       "    <tr>\n",
       "      <th>13</th>\n",
       "      <td>4</td>\n",
       "      <td>5</td>\n",
       "      <td>1</td>\n",
       "      <td>3</td>\n",
       "      <td>104</td>\n",
       "      <td>546</td>\n",
       "      <td>6</td>\n",
       "      <td>3</td>\n",
       "      <td>-0.373438</td>\n",
       "    </tr>\n",
       "    <tr>\n",
       "      <th>14</th>\n",
       "      <td>4</td>\n",
       "      <td>5</td>\n",
       "      <td>1</td>\n",
       "      <td>2</td>\n",
       "      <td>2334</td>\n",
       "      <td>410</td>\n",
       "      <td>6</td>\n",
       "      <td>2</td>\n",
       "      <td>1.638629</td>\n",
       "    </tr>\n",
       "  </tbody>\n",
       "</table>\n",
       "</div>"
      ],
      "text/plain": [
       "    Intake Type  Intake Condition  Animal Type  Sex upon Intake  Breed  Color  \\\n",
       "1             4                 5            0                4   1103    357   \n",
       "2             4                 5            0                4   1103    357   \n",
       "3             4                 5            0                4   1103    357   \n",
       "13            4                 5            1                3    104    546   \n",
       "14            4                 5            1                2   2334    410   \n",
       "\n",
       "    Outcome Type  Sex upon Outcome  Age (Days)  \n",
       "1              8                 4   -0.702351  \n",
       "2              8                 4   -0.702351  \n",
       "3              8                 4   -0.702351  \n",
       "13             6                 3   -0.373438  \n",
       "14             6                 2    1.638629  "
      ]
     },
     "execution_count": 1,
     "metadata": {},
     "output_type": "execute_result"
    }
   ],
   "source": [
    "from load_and_reduce import load_and_reduce\n",
    "from sklearn.tree import DecisionTreeRegressor\n",
    "from sklearn.metrics import r2_score\n",
    "from sklearn.ensemble import RandomForestRegressor\n",
    "import numpy as np\n",
    "from sklearn.model_selection import KFold, cross_val_score\n",
    "from sklearn.model_selection import train_test_split\n",
    "import sklearn\n",
    "\n",
    "#load data\n",
    "intake_path = \"Austin_Animal_Center_Intakes.csv\"\n",
    "outcome_path = \"Austin_Animal_Center_Outcomes.csv\"\n",
    "\n",
    "X, y = load_and_reduce(intake_path, outcome_path, coding = \"label\", scale = True, DimRed = \"None\")\n",
    "\n",
    "X.head()"
   ]
  },
  {
   "cell_type": "code",
   "execution_count": 2,
   "metadata": {},
   "outputs": [
    {
     "data": {
      "text/plain": [
       "1     0.087500\n",
       "2     0.090972\n",
       "3     0.090972\n",
       "13    0.050000\n",
       "14    0.050000\n",
       "Name: time_in_shelter_days, dtype: float64"
      ]
     },
     "execution_count": 2,
     "metadata": {},
     "output_type": "execute_result"
    }
   ],
   "source": [
    "y.head()"
   ]
  },
  {
   "cell_type": "code",
   "execution_count": 3,
   "metadata": {},
   "outputs": [
    {
     "data": {
      "text/plain": [
       "DecisionTreeRegressor()"
      ]
     },
     "execution_count": 3,
     "metadata": {},
     "output_type": "execute_result"
    }
   ],
   "source": [
    "dectree = DecisionTreeRegressor()\n",
    "\n",
    "dectree.fit(X,y)"
   ]
  },
  {
   "cell_type": "code",
   "execution_count": 4,
   "metadata": {},
   "outputs": [
    {
     "name": "stdout",
     "output_type": "stream",
     "text": [
      "0.7989551457005384\n"
     ]
    }
   ],
   "source": [
    "#make predictions, get r2 score\n",
    "\n",
    "y_pred = dectree.predict(X)\n",
    "r2_score_tree = r2_score(y,y_pred)\n",
    "print(r2_score_tree)\n"
   ]
  },
  {
   "cell_type": "code",
   "execution_count": null,
   "metadata": {},
   "outputs": [],
   "source": []
  }
 ],
 "metadata": {
  "kernelspec": {
   "display_name": "Python 3",
   "language": "python",
   "name": "python3"
  },
  "language_info": {
   "codemirror_mode": {
    "name": "ipython",
    "version": 3
   },
   "file_extension": ".py",
   "mimetype": "text/x-python",
   "name": "python",
   "nbconvert_exporter": "python",
   "pygments_lexer": "ipython3",
   "version": "3.8.5"
  }
 },
 "nbformat": 4,
 "nbformat_minor": 4
}
