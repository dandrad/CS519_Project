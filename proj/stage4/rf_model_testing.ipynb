{
 "cells": [
  {
   "cell_type": "code",
   "execution_count": 11,
   "metadata": {},
   "outputs": [],
   "source": [
    "from load_and_reduce import load_and_reduce\n",
    "from sklearn.tree import DecisionTreeRegressor\n",
    "from sklearn.metrics import r2_score, mean_squared_error\n",
    "from sklearn.ensemble import RandomForestRegressor\n",
    "from sklearn.model_selection import train_test_split\n",
    "import numpy as np\n",
    "import time \n",
    "from sklearn.model_selection import cross_val_score, GridSearchCV"
   ]
  },
  {
   "cell_type": "code",
   "execution_count": 2,
   "metadata": {},
   "outputs": [],
   "source": [
    "def run_and_time_rf(X_train,X_test,y_train,y_test, n_estimators = 100, max_depth = None, min_samples_split = 2, n_jobs = None):\n",
    "    \n",
    "    print(\"starting train\")\n",
    "    start_train = time.time()\n",
    "\n",
    "    forest = RandomForestRegressor(n_estimators = n_estimators, max_depth = max_depth, min_samples_split = min_samples_split, n_jobs = n_jobs)\n",
    "    \n",
    "    #forest = RandomForestRegressor()\n",
    "    forest.fit(X_train,y_train)\n",
    "\n",
    "    end_train = time.time()\n",
    "\n",
    "    train_time = (end_train - start_train)\n",
    "\n",
    "    print(\"starting predictions\")\n",
    "    start_pred = time.time()\n",
    "\n",
    "    forest_y_pred = forest.predict(X_test)\n",
    "\n",
    "    end_pred = time.time()\n",
    "\n",
    "    prediction_time = (end_pred - start_pred)\n",
    "\n",
    "    forest_y_pred_train = forest.predict(X_train)\n",
    "    \n",
    "    print(\"R^2 on training data: %.3f\" %(r2_score(y_train,forest_y_pred_train)))\n",
    "    print(\"R^2 on test data: %.3f\" %(r2_score(y_test,forest_y_pred)))\n",
    "    print(\"MSE: %.3f\"% mean_squared_error(y_test,forest_y_pred))\n",
    "    print(\"train time (s) =\", train_time)\n",
    "    print(\"prediction time (s) =\", prediction_time)\n",
    "    \n",
    "    "
   ]
  },
  {
   "cell_type": "code",
   "execution_count": 9,
   "metadata": {},
   "outputs": [],
   "source": [
    "#from https://medium.datadriveninvestor.com/random-forest-regression-9871bc9a25eb\n",
    "\n",
    "def rfr_model(X, y):\n",
    "    # Perform Grid-Search\n",
    "    gsc = GridSearchCV(\n",
    "    estimator=RandomForestRegressor(),\n",
    "        param_grid={\n",
    "            \n",
    "            'n_estimators': (50, 200,1000),\n",
    "            'min_samples_split': (2, 30, 100),\n",
    "            'max_depth': (None, 5, 15, 30),\n",
    "        },\n",
    "        cv=5, scoring='neg_mean_squared_error', verbose=1)\n",
    "    \n",
    "    grid_result = gsc.fit(X, y)\n",
    "    best_params = grid_result.best_params_\n",
    "  \n",
    "\n",
    "    return best_params"
   ]
  },
  {
   "cell_type": "markdown",
   "metadata": {},
   "source": [
    "# Load and Process Data"
   ]
  },
  {
   "cell_type": "code",
   "execution_count": 3,
   "metadata": {
    "scrolled": false
   },
   "outputs": [
    {
     "name": "stdout",
     "output_type": "stream",
     "text": [
      "Begin Feature Engineering\n",
      "\n",
      "Starting Cardinality of Breed 2419\n",
      "Starting Cardinality of Color 562\n",
      "\n",
      "Cardinality of Breed After Removing Mix and / 246\n",
      "Cardinality of Color After Removing / 58\n",
      "\n",
      "Cardinality of Breed After Boiling Down Rare Breeds 105\n",
      "Cardinality of Color After Boiling Down Rare Colors 41\n",
      "\n",
      "Total Dimensions of X before Encoding (103049, 12)\n",
      "\n",
      "Encoding Columns ['Intake Type', 'Intake Condition', 'Animal Type', 'Outcome Type', 'Sex upon Outcome', 'Sex upon Intake', 'Breed', 'Color']\n",
      "Droping Columns []\n",
      "\n",
      "Intake Type Cardinality -  5\n",
      "\n",
      "Intake Condition Cardinality -  10\n",
      "\n",
      "Animal Type Cardinality -  2\n",
      "\n",
      "Outcome Type Cardinality -  9\n",
      "\n",
      "Sex upon Outcome Cardinality -  5\n",
      "\n",
      "Sex upon Intake Cardinality -  5\n",
      "\n",
      "Breed Cardinality -  105\n",
      "\n",
      "Color Cardinality -  41\n",
      "\n",
      "Scaling ['Age (Days)']\n",
      "Data loading and processing time = 14.420130491256714\n"
     ]
    }
   ],
   "source": [
    "\n",
    "#load data\n",
    "intake_path = \"Austin_Animal_Center_Intakes.csv\"\n",
    "outcome_path = \"Austin_Animal_Center_Outcomes.csv\"\n",
    "\n",
    "start_load = time.time()\n",
    "\n",
    "X, y = load_and_reduce(intake_path, outcome_path, coding = \"onehot\", scale = True, DimRed = \"None\")\n",
    "\n",
    "end_load = time.time()\n",
    "\n",
    "time_load = end_load - start_load\n",
    "\n",
    "print(\"Data loading and processing time =\", time_load)"
   ]
  },
  {
   "cell_type": "markdown",
   "metadata": {},
   "source": [
    "## Train/Test Split"
   ]
  },
  {
   "cell_type": "code",
   "execution_count": 6,
   "metadata": {},
   "outputs": [],
   "source": [
    "X_train, X_test, y_train, y_test = train_test_split(\n",
    " X, y, test_size=0.33, random_state=42)"
   ]
  },
  {
   "cell_type": "markdown",
   "metadata": {},
   "source": [
    "# Do Grid Search"
   ]
  },
  {
   "cell_type": "code",
   "execution_count": 10,
   "metadata": {},
   "outputs": [
    {
     "name": "stdout",
     "output_type": "stream",
     "text": [
      "Fitting 5 folds for each of 36 candidates, totalling 180 fits\n"
     ]
    },
    {
     "name": "stderr",
     "output_type": "stream",
     "text": [
      "[Parallel(n_jobs=1)]: Using backend SequentialBackend with 1 concurrent workers.\n",
      "[Parallel(n_jobs=1)]: Done 180 out of 180 | elapsed: 1013.6min finished\n"
     ]
    },
    {
     "data": {
      "text/plain": [
       "{'max_depth': 15, 'min_samples_split': 100, 'n_estimators': 1000}"
      ]
     },
     "execution_count": 10,
     "metadata": {},
     "output_type": "execute_result"
    }
   ],
   "source": [
    "rfr_model(X,y)"
   ]
  },
  {
   "cell_type": "markdown",
   "metadata": {},
   "source": [
    "# Run Models\n",
    "\n",
    "## Random Forest With Parameters From Grid Search"
   ]
  },
  {
   "cell_type": "code",
   "execution_count": 12,
   "metadata": {},
   "outputs": [
    {
     "name": "stdout",
     "output_type": "stream",
     "text": [
      "starting train\n",
      "starting predictions\n",
      "R^2 on training data: 0.299\n",
      "R^2 on test data: 0.217\n",
      "MSE: 1502.673\n",
      "train time (s) = 775.9548621177673\n",
      "prediction time (s) = 2.907144784927368\n"
     ]
    }
   ],
   "source": [
    "run_and_time_rf(X_train, X_test, y_train, y_test, n_estimators = 1000, max_depth = 15, min_samples_split = 100)"
   ]
  },
  {
   "cell_type": "code",
   "execution_count": null,
   "metadata": {},
   "outputs": [
    {
     "name": "stdout",
     "output_type": "stream",
     "text": [
      "starting train\n"
     ]
    }
   ],
   "source": [
    "run_and_time_rf(X_train, X_test, y_train, y_test, n_estimators = 100)"
   ]
  }
 ],
 "metadata": {
  "kernelspec": {
   "display_name": "Python 3",
   "language": "python",
   "name": "python3"
  },
  "language_info": {
   "codemirror_mode": {
    "name": "ipython",
    "version": 3
   },
   "file_extension": ".py",
   "mimetype": "text/x-python",
   "name": "python",
   "nbconvert_exporter": "python",
   "pygments_lexer": "ipython3",
   "version": "3.8.5"
  }
 },
 "nbformat": 4,
 "nbformat_minor": 4
}
